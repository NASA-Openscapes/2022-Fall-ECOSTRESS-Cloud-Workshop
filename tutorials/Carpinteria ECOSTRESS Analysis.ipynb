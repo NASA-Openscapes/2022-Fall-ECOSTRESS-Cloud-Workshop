{
 "cells": [
  {
   "cell_type": "markdown",
   "metadata": {},
   "source": [
    "# ECOSTRESS Workshop Fall 2022"
   ]
  },
  {
   "cell_type": "markdown",
   "metadata": {},
   "source": [
    "Gregory Halverson\n",
    "Jet Propulsion Laboratory, California Institute of Technology\n",
    "\n",
    " This research was carried out at the Jet Propulsion Laboratory, California Institute of Technology, and was sponsored by ECOSTRESS and the National Aeronautics and Space Administration (80NM0018D0004). \n",
    "\n",
    " © 2022. All rights reserved."
   ]
  },
  {
   "cell_type": "markdown",
   "metadata": {},
   "source": [
    "## Importing Libraries"
   ]
  },
  {
   "cell_type": "markdown",
   "metadata": {},
   "source": [
    "These are some built-in Python functions we need for this notebook, including functions for handling filenames and dates."
   ]
  },
  {
   "cell_type": "code",
   "execution_count": null,
   "metadata": {},
   "outputs": [],
   "source": [
    "from os.path import join, abspath, basename, splitext\n",
    "from glob import glob\n",
    "from datetime import datetime, date, timedelta\n",
    "from zipfile import ZipFile\n",
    "import warnings"
   ]
  },
  {
   "cell_type": "markdown",
   "metadata": {},
   "source": [
    "We're using the `rioxarray` package for loading raster data from GeoTIFF files, and we're importing it as `rxr`. We're using the `numpy` library to handle arrays, and we're importing it as `np`. We're using the `rasterstats` package for zonal statistics."
   ]
  },
  {
   "cell_type": "code",
   "execution_count": null,
   "metadata": {},
   "outputs": [],
   "source": [
    "!mamba install -q -y rasterstats"
   ]
  },
  {
   "cell_type": "code",
   "execution_count": null,
   "metadata": {},
   "outputs": [],
   "source": [
    "import rioxarray as rxr\n",
    "import numpy as np\n",
    "from rasterstats import zonal_stats"
   ]
  },
  {
   "cell_type": "markdown",
   "metadata": {},
   "source": [
    "We're using the `geopandas` library to load vector data from GeoJSON files, and we're importing it as `gpd`. We're using the `shapely` library to handle vector data and the `pyproj` library to handle projections."
   ]
  },
  {
   "cell_type": "code",
   "execution_count": null,
   "metadata": {},
   "outputs": [],
   "source": [
    "import geopandas as gpd\n",
    "from shapely.geometry import Point, box\n",
    "from shapely.ops import transform\n",
    "from pyproj import Transformer"
   ]
  },
  {
   "cell_type": "markdown",
   "metadata": {},
   "source": [
    "We're using the `pandas` library to handle tables, and we're importing it as `pd`."
   ]
  },
  {
   "cell_type": "code",
   "execution_count": null,
   "metadata": {},
   "outputs": [],
   "source": [
    "import pandas as pd"
   ]
  },
  {
   "cell_type": "markdown",
   "metadata": {},
   "source": [
    "We're using the `seaborn` library to produce our graphs, and we're importing it as `sns`. We're using the `hvplot` library to produce our maps. We're using the `matplotlib` library to handle plotting figures, and we're importing it as `plt`."
   ]
  },
  {
   "cell_type": "code",
   "execution_count": null,
   "metadata": {},
   "outputs": [],
   "source": [
    "import seaborn as sns\n",
    "import hvplot.xarray\n",
    "import hvplot.pandas\n",
    "import matplotlib.pyplot as plt"
   ]
  },
  {
   "cell_type": "markdown",
   "metadata": {},
   "source": [
    "## Defining Constants"
   ]
  },
  {
   "cell_type": "markdown",
   "metadata": {},
   "source": [
    "These constants define the dimensions of our figures. Feel free to adjust these to fit your display."
   ]
  },
  {
   "cell_type": "code",
   "execution_count": null,
   "metadata": {},
   "outputs": [],
   "source": [
    "FIG_WIDTH_PX = 1080\n",
    "FIG_HEIGHT_PX = 720\n",
    "FIG_WIDTH_IN = 16\n",
    "FIG_HEIGHT_IN = 9\n",
    "FIG_ALPHA = 0.7\n",
    "BASEMAP = \"ESRI\"\n",
    "SEABORN_STYLE = \"whitegrid\"\n",
    "sns.set_style(SEABORN_STYLE)"
   ]
  },
  {
   "cell_type": "markdown",
   "metadata": {},
   "source": [
    "This is the location of the example ECOSTRESS Collection 2 product files."
   ]
  },
  {
   "cell_type": "code",
   "execution_count": null,
   "metadata": {},
   "outputs": [],
   "source": [
    "DATA_DIRECTORY = \"/home/jovyan/shared/2022-fall-ecostress-workshop/Carpinteria_ECOSTRESS_Collection_2\"\n",
    "print(f\"data directory: {DATA_DIRECTORY}\")"
   ]
  },
  {
   "cell_type": "markdown",
   "metadata": {},
   "source": [
    "## Loading an ECOSTRESS Collection 2 Granule"
   ]
  },
  {
   "cell_type": "markdown",
   "metadata": {},
   "source": [
    "First, let's trying opening a data layer from a product file. "
   ]
  },
  {
   "cell_type": "code",
   "execution_count": null,
   "metadata": {},
   "outputs": [],
   "source": [
    "filename = join(DATA_DIRECTORY, \"ECOv002_L2T_LSTE_12139_005_11SKU_20200826T191453_0700_01.zip\")\n",
    "print(f\"example L2T LSTE file: {filename}\")"
   ]
  },
  {
   "cell_type": "markdown",
   "metadata": {},
   "source": [
    "The granule ID for this granule can be parsed from the filename by dropping the `.zip` extension."
   ]
  },
  {
   "cell_type": "code",
   "execution_count": null,
   "metadata": {},
   "outputs": [],
   "source": [
    "granule_ID = splitext(basename(filename))[0]\n",
    "print(f\"granule ID: {granule_ID}\")"
   ]
  },
  {
   "cell_type": "markdown",
   "metadata": {},
   "source": [
    "This product bundle, stored in zip format, contains a number of files, including raster data layers in GeoTIFF format as `.tif` files, and GeoJPEG browse images as `.jpeg` files. The GeoTIFF files can be loaded into GIS software, such as QGIS and ArcGIS. The GeoJPEG files can be loaded into Google Earth."
   ]
  },
  {
   "cell_type": "code",
   "execution_count": null,
   "metadata": {},
   "outputs": [],
   "source": [
    "with ZipFile(filename) as zip_file:\n",
    "    for internal_file in zip_file.filelist:\n",
    "        print(internal_file.filename)"
   ]
  },
  {
   "cell_type": "markdown",
   "metadata": {},
   "source": [
    "The ECOSTRESS Collection 2 tiled products include metadata in JSON format as a `.json` text file."
   ]
  },
  {
   "cell_type": "code",
   "execution_count": null,
   "metadata": {},
   "outputs": [],
   "source": [
    "with ZipFile(filename) as zip_file:\n",
    "    metadata = zip_file.read(f\"{granule_ID}/{granule_ID}.json\").decode()\n",
    "\n",
    "print(metadata)"
   ]
  },
  {
   "cell_type": "markdown",
   "metadata": {},
   "source": [
    "To open the temperature layer of this file, we'll form a Universion Resource Identifier (URI) with the pattern:\n",
    "`zip://{filename}!/{granule_ID}/{granule_ID}_{variable}.tif`"
   ]
  },
  {
   "cell_type": "code",
   "execution_count": null,
   "metadata": {},
   "outputs": [],
   "source": [
    "URI = f\"zip://{abspath(filename)}!/{granule_ID}/{granule_ID}_LST.tif\"\n",
    "print(f\"URI: {URI}\")"
   ]
  },
  {
   "cell_type": "markdown",
   "metadata": {},
   "source": [
    "We're using `rioxarray` to open the surface temperature layer from the `L2T_LSTE` product on the 11SKU tile covering the Carpinteria Salt Marsh. We're passing the URI pointing to the GeoTIFF file contained within this zip file. If you unzip this product bundle or download the GeoTIFF file on its own, you can pass the filename of the GeoTIFF file directly into `rioxarray`."
   ]
  },
  {
   "cell_type": "code",
   "execution_count": null,
   "metadata": {},
   "outputs": [],
   "source": [
    "ST_K_raster = rxr.open_rasterio(URI).squeeze('band', drop=True)\n",
    "ST_K_raster"
   ]
  },
  {
   "cell_type": "markdown",
   "metadata": {},
   "source": [
    "This `xarray.DataArray` object contains both an array of image values and spatial metadata. The `rioxarray` package extends `xarray` with a `.rio` attribute containing the metadata. Here we're examining the coordinate reference system (CRS) of this image in the `rioxarray` metadata."
   ]
  },
  {
   "cell_type": "code",
   "execution_count": null,
   "metadata": {},
   "outputs": [],
   "source": [
    "CRS = ST_K_raster.rio.crs\n",
    "CRS.to_wkt()"
   ]
  },
  {
   "cell_type": "markdown",
   "metadata": {},
   "source": [
    "This image is projected in **UTM zone 11 north**. Distances in this projection system are in meters. All tiled ECOSTRESS products are projected in UTM, but tiles are projected into different UTM zones, depending on where they are in the world."
   ]
  },
  {
   "cell_type": "markdown",
   "metadata": {},
   "source": [
    "We can also check the spatial resolution of the grid cells in this image in the `.rio` metadata."
   ]
  },
  {
   "cell_type": "code",
   "execution_count": null,
   "metadata": {},
   "outputs": [],
   "source": [
    "cell_width, cell_height = ST_K_raster.rio.resolution()\n",
    "print(f\"cell width: {cell_width} cell height: {cell_height}\")"
   ]
  },
  {
   "cell_type": "markdown",
   "metadata": {},
   "source": [
    "This image is projected with **70m** square pixels, as are all tiled ECOSTRESS products."
   ]
  },
  {
   "cell_type": "markdown",
   "metadata": {},
   "source": [
    "To know the observation time for this granule, we're parsing the timestamp from the filename. This timestamp is given as Coordinated Universal Time (UTC)."
   ]
  },
  {
   "cell_type": "code",
   "execution_count": null,
   "metadata": {},
   "outputs": [],
   "source": [
    "datetime_UTC = datetime.strptime(basename(filename).split(\"_\")[-3], \"%Y%m%dT%H%M%S\")\n",
    "print(f\"date/time UTC: {datetime_UTC:%Y-%m-%d %H:%M:%S}\")"
   ]
  },
  {
   "cell_type": "markdown",
   "metadata": {},
   "source": [
    "We want to know the centroid coordinate of this tile so that we can adjust the UTC time given to solar apparent time. We're calculating the centroid as the average of x coordinate values and average of y coordinate values."
   ]
  },
  {
   "cell_type": "code",
   "execution_count": null,
   "metadata": {},
   "outputs": [],
   "source": [
    "centroid_UTM = Point(np.nanmean(ST_K_raster.x), np.nanmean(ST_K_raster.y))\n",
    "print(f\"centroid UTM: {centroid_UTM}\")"
   ]
  },
  {
   "cell_type": "markdown",
   "metadata": {},
   "source": [
    "This centroid coordinate is in meters. We want to convert these projected x and y values in meters to geographic latitude and longitude in degress."
   ]
  },
  {
   "cell_type": "code",
   "execution_count": null,
   "metadata": {},
   "outputs": [],
   "source": [
    "centroid_latlon = transform(Transformer.from_crs(CRS, \"EPSG:4326\", always_xy=True).transform, centroid_UTM)\n",
    "print(f\"centroid lat/lon: {centroid_latlon.wkt}\")"
   ]
  },
  {
   "cell_type": "markdown",
   "metadata": {},
   "source": [
    "We're shifting the UTC time to local time according to longitude."
   ]
  },
  {
   "cell_type": "code",
   "execution_count": null,
   "metadata": {},
   "outputs": [],
   "source": [
    "datetime_solar = datetime_UTC + timedelta(hours=(np.radians(centroid_latlon.x) / np.pi * 12))\n",
    "print(f\"date/time solar: {datetime_solar:%Y-%m-%d %H:%M:%S}\")"
   ]
  },
  {
   "cell_type": "markdown",
   "metadata": {},
   "source": [
    "The `hvplot` package extends `xarray` to allow us to plot maps. We're reprojecting the raster geographic projection **EPSG 4326** to overlay on the basemap with a latitude and longitude graticule. We're using the `jet` color scheme to render temperature with a rainbow of colors with red meaning hot and blue meaning cool. We're setting the alpha to make the raster semi-transparent on top of the basemap. We're filtering out values lower than the 2% percentile and higher than the 98% percentile to make the variation in the image more visible."
   ]
  },
  {
   "cell_type": "code",
   "execution_count": null,
   "metadata": {},
   "outputs": [],
   "source": [
    "ST_CMAP = \"jet\"\n",
    "\n",
    "ST_K_map = ST_K_raster.rio.reproject(\"EPSG:4326\").hvplot.image(\n",
    "    geo=True,\n",
    "    cmap=ST_CMAP,\n",
    "    tiles=BASEMAP,\n",
    "    alpha=FIG_ALPHA,\n",
    "    width=FIG_WIDTH_PX,\n",
    "    height=FIG_HEIGHT_PX,\n",
    "    clim=(ST_K_raster.quantile(0.02), ST_K_raster.quantile(0.98)),\n",
    "    title=f\"{granule_ID} Surface Temperature (Kelvin)\"\n",
    ")\n",
    "\n",
    "ST_K_map = ST_K_map.options(xlabel=\"Longitude\", ylabel=\"Latitude\")\n",
    "ST_K_map"
   ]
  },
  {
   "cell_type": "markdown",
   "metadata": {},
   "source": [
    "The temperatures in the `L2T_LSTE` product are given in Kelvin. To convert them to Celsius, we subtract 273.15."
   ]
  },
  {
   "cell_type": "code",
   "execution_count": null,
   "metadata": {},
   "outputs": [],
   "source": [
    "ST_C_raster = ST_K_raster.copy()\n",
    "ST_C_raster.data = ST_K_raster.data - 273.15\n",
    "\n",
    "ST_C_map = ST_C_raster.rio.reproject(\"EPSG:4326\").hvplot.image(\n",
    "    geo=True,\n",
    "    cmap=ST_CMAP,\n",
    "    tiles=BASEMAP,\n",
    "    alpha=FIG_ALPHA,\n",
    "    width=FIG_WIDTH_PX,\n",
    "    height=FIG_HEIGHT_PX,\n",
    "    clim=(ST_C_raster.quantile(0.02), ST_C_raster.quantile(0.98)),\n",
    "    title=f\"{granule_ID} Surface Temperature (Celsius)\"\n",
    ")\n",
    "\n",
    "ST_C_map = ST_C_map.options(xlabel=\"Longitude\", ylabel=\"Latitude\")\n",
    "ST_C_map"
   ]
  },
  {
   "cell_type": "markdown",
   "metadata": {},
   "source": [
    "## Including Vector Data in Analysis"
   ]
  },
  {
   "cell_type": "markdown",
   "metadata": {},
   "source": [
    "We want to analyze the ECOSTRESS images using the [Carpinteria Salt Marsh Habitat Polygons](https://www.sciencebase.gov/catalog/item/582a4ca4e4b0c253bdff7d32) provided by the USGS. This dataset is included here in GeoJSON format, which we'll load using the `geopandas` package."
   ]
  },
  {
   "cell_type": "code",
   "execution_count": null,
   "metadata": {},
   "outputs": [],
   "source": [
    "landcover_latlon = gpd.read_file(\"landcover.geojson\")\n",
    "landcover_latlon"
   ]
  },
  {
   "cell_type": "markdown",
   "metadata": {},
   "source": [
    "To align this vector dataset with the raster datasets, we need to project it to the UTM projection used for the rasters."
   ]
  },
  {
   "cell_type": "code",
   "execution_count": null,
   "metadata": {},
   "outputs": [],
   "source": [
    "landcover_UTM = landcover_latlon.to_crs(ST_C_raster.rio.crs)\n",
    "landcover_UTM"
   ]
  },
  {
   "cell_type": "markdown",
   "metadata": {},
   "source": [
    "This vector dataset contains polygons classifying the surface of the Carpinteria Salt Marsh into channel, salt flat, upland, pan, and marsh."
   ]
  },
  {
   "cell_type": "code",
   "execution_count": null,
   "metadata": {},
   "outputs": [],
   "source": [
    "landcover_colors = {\n",
    "    \"channel\": \"blue\",\n",
    "    \"marsh\": \"yellow\",\n",
    "    \"pan\": \"green\",\n",
    "    \"salt flat\": \"white\",\n",
    "    \"upland\": \"brown\"\n",
    "}\n",
    "\n",
    "landcover_map = landcover_latlon.to_crs(\"EPSG:4326\").hvplot.polygons(\n",
    "    geo=True,\n",
    "    color=landcover_UTM[\"type\"].apply(lambda type: landcover_colors[type]),\n",
    "    tiles=BASEMAP,\n",
    "    alpha=FIG_ALPHA,\n",
    "    width=FIG_WIDTH_PX,\n",
    "    height=FIG_HEIGHT_PX,\n",
    "    title=\"Carpinteria Salt Marsh Habitat Polygons\"\n",
    ")\n",
    "\n",
    "landcover_map = landcover_map.options(xlabel=\"Longitude\", ylabel=\"Latitude\")\n",
    "landcover_map"
   ]
  },
  {
   "cell_type": "markdown",
   "metadata": {},
   "source": [
    "To compare the raster image to the vector dataset, we want to subset the raster to the bounds of the vector dataset. We're getting the bounds of our study area in meters from the convex hull of our land-cover polygons with a 100 meter buffer."
   ]
  },
  {
   "cell_type": "code",
   "execution_count": null,
   "metadata": {},
   "outputs": [],
   "source": [
    "xmin, ymin, xmax, ymax = landcover_UTM.unary_union.convex_hull.buffer(100).bounds\n",
    "xmin, ymin, xmax, ymax"
   ]
  },
  {
   "cell_type": "markdown",
   "metadata": {},
   "source": [
    "We're using this bounding box obtained from the extent of the vector dataset to clip the extent of the raster dataset. Now we can look at the ECOSTRESS surface temperature over the Carpinteria Salt Marsh."
   ]
  },
  {
   "cell_type": "code",
   "execution_count": null,
   "metadata": {},
   "outputs": [],
   "source": [
    "ST_C_subset = ST_C_raster.rio.clip([box(xmin, ymin, xmax, ymax)])\n",
    "\n",
    "ST_C_subset_map = ST_C_subset.rio.reproject(\"EPSG:4326\").hvplot.image(\n",
    "    geo=True,\n",
    "    cmap=ST_CMAP,\n",
    "    tiles=BASEMAP,\n",
    "    alpha=FIG_ALPHA,\n",
    "    width=FIG_WIDTH_PX,\n",
    "    height=FIG_HEIGHT_PX,\n",
    "    clim=(ST_C_subset.quantile(0.02), ST_C_subset.quantile(0.98)),\n",
    "    title = \"Carpinteria Salt Marsh Surface Temperature (Celsius)\"\n",
    ")\n",
    "\n",
    "ST_C_subset_map = ST_C_subset_map.options(xlabel=\"Longitude\", ylabel=\"Latitude\")\n",
    "ST_C_subset_map"
   ]
  },
  {
   "cell_type": "markdown",
   "metadata": {},
   "source": [
    "We're comparing the raster dataset to the polygon dataset by calculating zonal statistics with the `rasterstats` package."
   ]
  },
  {
   "cell_type": "code",
   "execution_count": null,
   "metadata": {},
   "outputs": [],
   "source": [
    "landcover_stats = pd.DataFrame(zonal_stats(\n",
    "    landcover_UTM,\n",
    "    ST_C_subset.data,\n",
    "    affine=ST_C_subset.rio.transform(),\n",
    "    nodata=np.nan,\n",
    "    stats=[\"min\", \"median\", \"max\"]\n",
    "))\n",
    "\n",
    "landcover_stats[\"type\"] = landcover_UTM[\"type\"]\n",
    "landcover_stats[\"variable\"] = \"ST_C\"\n",
    "landcover_stats[\"datetime_solar\"] = datetime_solar\n",
    "landcover_stats = landcover_stats[[\"type\", \"variable\", \"datetime_solar\", \"min\", \"median\", \"max\"]]\n",
    "landcover_stats"
   ]
  },
  {
   "cell_type": "markdown",
   "metadata": {},
   "source": [
    "## Loading a Time-Series of ECOSTRESS Files in Bulk"
   ]
  },
  {
   "cell_type": "markdown",
   "metadata": {},
   "source": [
    "We're using the built-in `glob` function to search for `L2T_LSTE` filenames in our downloaded collection of ECOSTRESS files."
   ]
  },
  {
   "cell_type": "code",
   "execution_count": null,
   "metadata": {},
   "outputs": [],
   "source": [
    "L2T_LSTE_filenames = sorted(glob(join(DATA_DIRECTORY, \"*_L2T_LSTE_*.zip\")))\n",
    "L2T_LSTE_filenames"
   ]
  },
  {
   "cell_type": "markdown",
   "metadata": {},
   "source": [
    "Let's run our zonal statistics analysis on each of the ECOSTRESS granules we have available, and produce a table of these statistics."
   ]
  },
  {
   "cell_type": "code",
   "execution_count": null,
   "metadata": {},
   "outputs": [],
   "source": [
    "salt_marsh_ST = pd.DataFrame({}, columns=[\"datetime_solar\", \"type\", \"ST\"])\n",
    "\n",
    "for i, filename in enumerate(L2T_LSTE_filenames):\n",
    "    granule_ID = splitext(basename(filename))[0]\n",
    "    print(f\"({i+1}/{len(L2T_LSTE_filenames)}) {granule_ID}\")\n",
    "    URI = f\"zip://{filename}!/{granule_ID}/{granule_ID}_LST.tif\"\n",
    "    ST_K_raster = rxr.open_rasterio(URI).squeeze('band', drop=True)\n",
    "    ST_C_raster = ST_K_raster.copy()\n",
    "    ST_C_raster.data = ST_K_raster.data - 273.15\n",
    "    datetime_UTC = datetime.strptime(basename(filename).split(\"_\")[-3], \"%Y%m%dT%H%M%S\")\n",
    "    centroid_UTM = Point(np.nanmean(ST_K_raster.x), np.nanmean(ST_K_raster.y))\n",
    "    centroid_latlon = transform(Transformer.from_crs(CRS, \"EPSG:4326\", always_xy=True).transform, centroid_UTM)\n",
    "    datetime_solar = datetime_UTC + timedelta(hours=(np.radians(centroid_latlon.x) / np.pi * 12))\n",
    "    ST_C_subset = ST_C_raster.rio.clip([box(xmin, ymin, xmax, ymax)])\n",
    "\n",
    "    landcover_stats = pd.DataFrame(zonal_stats(\n",
    "        landcover_UTM,\n",
    "        ST_C_subset.data,\n",
    "        affine=ST_C_subset.rio.transform(),\n",
    "        nodata=np.nan,\n",
    "        stats=[\"median\"]\n",
    "    ))\n",
    "\n",
    "    landcover_stats[\"type\"] = landcover_UTM[\"type\"]\n",
    "    landcover_stats[\"datetime_solar\"] = datetime_solar\n",
    "    landcover_stats[\"ST\"] = landcover_stats[\"median\"].apply(lambda value: np.nan if value is None else value)\n",
    "    landcover_stats = landcover_stats[[\"datetime_solar\", \"type\", \"ST\"]]\n",
    "    salt_marsh_ST = pd.concat([salt_marsh_ST, landcover_stats])\n",
    "\n",
    "salt_marsh_ST = salt_marsh_ST.dropna()\n",
    "salt_marsh_ST"
   ]
  },
  {
   "cell_type": "markdown",
   "metadata": {},
   "source": [
    "## Visualizing Distributions with Boxplots"
   ]
  },
  {
   "cell_type": "markdown",
   "metadata": {},
   "source": [
    "Let's examine the distribution of ECOSTRESS surface temperatures seen in the different land-cover types within the Carpinteria Salt Marsh. To visualize these distributions, we're plotting them as boxplots. We're using the `seaborn` library to generate these boxplots.\n",
    "\n",
    "We tend to see cooler temperatures where water settles in the channel and warmer temperatures in the upland and salt flat areas, which are above the water and lack vegetation. Moderate temperatures are seen in the vegetated marsh and pan areas in between."
   ]
  },
  {
   "cell_type": "code",
   "execution_count": null,
   "metadata": {},
   "outputs": [],
   "source": [
    "with warnings.catch_warnings():\n",
    "    warnings.simplefilter(\"ignore\")\n",
    "    salt_marsh_ST_overall_median = salt_marsh_ST.groupby(\"type\").median().reset_index()[[\"type\", \"ST\"]].sort_values(\"ST\")\n",
    "\n",
    "fig, ax = plt.subplots(figsize=(FIG_WIDTH_IN, FIG_HEIGHT_IN))\n",
    "\n",
    "sns.boxplot(\n",
    "    data=salt_marsh_ST,\n",
    "    x=\"type\",\n",
    "    y=\"ST\",\n",
    "    order=salt_marsh_ST_overall_median.type,\n",
    "    palette=landcover_colors,\n",
    "    ax=ax\n",
    ")\n",
    "\n",
    "ax.set(xlabel=\"Land Cover Type\", ylabel=\"Median Surface Temperature (Celsius)\")\n",
    "yticks = range(int(np.nanmin(salt_marsh_ST.ST)), int(np.nanmax(salt_marsh_ST.ST)) + 2)\n",
    "ax.set_yticks(yticks)\n",
    "yticklabels = [f\"{tick}°C\" for tick in yticks]\n",
    "ax.set_yticklabels(yticklabels)\n",
    "plt.title(\"Carpinteria Salt Marsh Median ECOSTRESS Surface Temperature Boxplots by Land Cover\")\n",
    "plt.show()\n",
    "plt.close(fig)\n",
    "\n",
    "print(salt_marsh_ST_overall_median)"
   ]
  },
  {
   "cell_type": "markdown",
   "metadata": {},
   "source": [
    "## Seasonal Agreggate Time-Series"
   ]
  },
  {
   "cell_type": "markdown",
   "metadata": {},
   "source": [
    "Let's examine a time-series of ECOSTRESS surface temperature. To make this time-series smooth, we'll aggregate our zonal statistics by season."
   ]
  },
  {
   "cell_type": "code",
   "execution_count": null,
   "metadata": {},
   "outputs": [],
   "source": [
    "salt_marsh_ST_seasonal = salt_marsh_ST.copy()\n",
    "salt_marsh_ST_seasonal[\"season\"] = salt_marsh_ST_seasonal.apply(\n",
    "    lambda row: date(int(row.datetime_solar.year), int(((row.datetime_solar.month - 1) // 3) * 3 + 1), 1), axis=1)\n",
    "salt_marsh_ST_seasonal = salt_marsh_ST_seasonal[[\"season\", \"type\", \"ST\"]]\n",
    "salt_marsh_ST_seasonal = salt_marsh_ST_seasonal.dropna().groupby(\n",
    "    by=[\"season\", \"type\"]).median().reset_index()\n",
    "salt_marsh_ST_seasonal"
   ]
  },
  {
   "cell_type": "markdown",
   "metadata": {},
   "source": [
    "We're using the `seaborn` package again to visualize this timeseries as a line-plot. In this line-plot, we can see that temperatures in the Carptineria Salt Marsh tend to drop in the Winter and rise in the Summer. Channel and marsh temperatures tend to be the coolest for much of the year, and upland and salt flat temperatures tend to be the warmest for much of the year."
   ]
  },
  {
   "cell_type": "code",
   "execution_count": null,
   "metadata": {},
   "outputs": [],
   "source": [
    "fig, ax = plt.subplots(figsize=(FIG_WIDTH_IN, FIG_HEIGHT_IN))\n",
    "\n",
    "sns.lineplot(\n",
    "    data=salt_marsh_ST_seasonal,\n",
    "    x=\"season\",\n",
    "    y=\"ST\",\n",
    "    hue=\"type\",\n",
    "    ax=ax\n",
    ")\n",
    "\n",
    "ax.set(xlabel=\"Season\", ylabel=\"Seasonal Median Surface Temperature (Celsius)\")\n",
    "xticks = sorted(np.unique(salt_marsh_ST_seasonal.season))\n",
    "ax.set_xticks(xticks)\n",
    "seasons = {1: \"Winter\", 4: \"Spring\", 7: \"Summer\", 10: \"Fall\"}\n",
    "ax.set_xticklabels([f\"{seasons[xtick.month]}\\n{xtick.year}\" for xtick in xticks])\n",
    "yticks = range(int(min(salt_marsh_ST_seasonal.ST)), int(max(salt_marsh_ST_seasonal.ST)) + 1)\n",
    "ax.set_yticks(yticks)\n",
    "ax.set_yticklabels([f\"{ytick:0.0f}°C\" for ytick in yticks])\n",
    "\n",
    "plt.legend(title=\"Marsh Land Type\")\n",
    "plt.title(\"Carpinteria Salt Marsh Seasonal Median ECOSTRESS Surface Temperature Timeline by Land Cover\")\n",
    "plt.show()\n",
    "plt.close(fig)"
   ]
  },
  {
   "cell_type": "markdown",
   "metadata": {},
   "source": [
    "## ECOSTRESS Evapotranspiration"
   ]
  },
  {
   "cell_type": "markdown",
   "metadata": {},
   "source": [
    "Now let's repeat our time-series analysis using the ECOSTRESS evapotranspiration product. ECOSTRESS Collection 2 includes the *JPL Evapotranspiration Ensemble* (JET) product, which runs several models to create a balanced ET estimate. We're searching through our set of downloaded ECOSTRESS files for `L3T_JET` granules using `glob`."
   ]
  },
  {
   "cell_type": "code",
   "execution_count": null,
   "metadata": {},
   "outputs": [],
   "source": [
    "L3T_JET_filenames = sorted(glob(join(DATA_DIRECTORY, \"*_L3T_JET_*.zip\")))\n",
    "L3T_JET_filenames"
   ]
  },
  {
   "cell_type": "markdown",
   "metadata": {},
   "source": [
    "We're running our zonal statistics time-series analysis again, but now loading daily evapotranspiration (ET) in millimeters per day from the L3T JET product."
   ]
  },
  {
   "cell_type": "code",
   "execution_count": null,
   "metadata": {},
   "outputs": [],
   "source": [
    "salt_marsh_ET = pd.DataFrame({}, columns=[\"datetime_solar\", \"type\", \"ET\"])\n",
    "\n",
    "for i, filename in enumerate(L3T_JET_filenames):\n",
    "    granule_ID = splitext(basename(filename))[0]\n",
    "    print(f\"({i+1}/{len(L3T_JET_filenames)}) {granule_ID}\")\n",
    "    URI = f\"zip://{filename}!/{granule_ID}/{granule_ID}_ETdaily.tif\"\n",
    "    ET_raster = rxr.open_rasterio(URI).squeeze('band', drop=True)\n",
    "    datetime_UTC = datetime.strptime(\n",
    "        basename(filename).split(\"_\")[-3], \"%Y%m%dT%H%M%S\")\n",
    "    centroid_UTM = Point(np.nanmean(ST_K_raster.x), np.nanmean(ST_K_raster.y))\n",
    "    centroid_latlon = transform(Transformer.from_crs(\n",
    "        CRS, \"EPSG:4326\", always_xy=True).transform, centroid_UTM)\n",
    "    datetime_solar = datetime_UTC + \\\n",
    "        timedelta(hours=(np.radians(centroid_latlon.x) / np.pi * 12))\n",
    "    ET_subset = ET_raster.rio.clip([box(xmin, ymin, xmax, ymax)])\n",
    "\n",
    "    landcover_stats = pd.DataFrame(zonal_stats(\n",
    "        landcover_UTM,\n",
    "        ET_subset.data,\n",
    "        affine=ET_subset.rio.transform(),\n",
    "        nodata=np.nan,\n",
    "        stats=[\"median\"]\n",
    "    ))\n",
    "\n",
    "    landcover_stats[\"type\"] = landcover_UTM[\"type\"]\n",
    "    landcover_stats[\"datetime_solar\"] = datetime_solar\n",
    "    landcover_stats[\"ET\"] = landcover_stats[\"median\"].apply(lambda value: np.nan if value is None or value == 0 else value)\n",
    "    landcover_stats = landcover_stats[[\"datetime_solar\", \"type\", \"ET\"]]\n",
    "    salt_marsh_ET = pd.concat([salt_marsh_ET, landcover_stats])\n",
    "\n",
    "salt_marsh_ET = salt_marsh_ET.dropna()\n",
    "salt_marsh_ET"
   ]
  },
  {
   "cell_type": "markdown",
   "metadata": {},
   "source": [
    "Now let's produce `seaborn` box-plots again to visualize the distribution of ECOSTRESS evapotranspiration. The non-vegetated upland and salt flat areas tend to be the driest, while the channel and marsh areas tend to be the wettest."
   ]
  },
  {
   "cell_type": "code",
   "execution_count": null,
   "metadata": {},
   "outputs": [],
   "source": [
    "with warnings.catch_warnings():\n",
    "    warnings.simplefilter(\"ignore\")\n",
    "    salt_marsh_ET_overall_median = salt_marsh_ET.groupby(\"type\").median().reset_index()[[\"type\", \"ET\"]].sort_values(\"ET\")\n",
    "\n",
    "fig, ax = plt.subplots(figsize=(FIG_WIDTH_IN, FIG_HEIGHT_IN))\n",
    "\n",
    "sns.boxplot(\n",
    "    data=salt_marsh_ET,\n",
    "    x=\"type\",\n",
    "    y=\"ET\",\n",
    "    order=salt_marsh_ET_overall_median.type,\n",
    "    palette=landcover_colors,\n",
    "    ax=ax\n",
    ")\n",
    "\n",
    "ax.set(xlabel=\"Land Cover Type\", ylabel=\"Median Daily Evapotranspiration (mm)\")\n",
    "yticks = np.arange(np.round(np.nanmin(salt_marsh_ET.ET)), np.round(np.nanmax(salt_marsh_ET.ET)) + 0.2, 0.1)\n",
    "ax.set_yticks(yticks)\n",
    "yticklabels = [f\"{tick:.1f} mm\" for tick in yticks]\n",
    "ax.set_yticklabels(yticklabels)\n",
    "plt.title(\"Carpinteria Salt Marsh Median ECOSTRESS Daily Evapotranspiration Boxplots by Land Cover\")\n",
    "plt.show()\n",
    "plt.close(fig)\n",
    "print(salt_marsh_ET_overall_median)"
   ]
  },
  {
   "cell_type": "markdown",
   "metadata": {},
   "source": [
    "Let's create another seasonal aggregate, now for ECOSTRESS evapotranspiration."
   ]
  },
  {
   "cell_type": "code",
   "execution_count": null,
   "metadata": {},
   "outputs": [],
   "source": [
    "salt_marsh_ET_seasonal = salt_marsh_ET.copy()\n",
    "salt_marsh_ET_seasonal[\"season\"] = salt_marsh_ET_seasonal.apply(\n",
    "    lambda row: date(int(row.datetime_solar.year), int(((row.datetime_solar.month - 1) // 3) * 3 + 1), 1), axis=1)\n",
    "salt_marsh_ET_seasonal = salt_marsh_ET_seasonal[[\"season\", \"type\", \"ET\"]]\n",
    "salt_marsh_ET_seasonal = salt_marsh_ET_seasonal.dropna().groupby(\n",
    "    by=[\"season\", \"type\"]).median().reset_index()\n",
    "salt_marsh_ET_seasonal"
   ]
  },
  {
   "cell_type": "markdown",
   "metadata": {},
   "source": [
    "We're using a `seaborn` line-plot again to visualize the seasonal aggregate of ECOSTRESS evapotranspiration by land-cover type. The channel and pan areas become dry in the heat of the Summer but then become wet again in the Autumn."
   ]
  },
  {
   "cell_type": "code",
   "execution_count": null,
   "metadata": {},
   "outputs": [],
   "source": [
    "fig, ax = plt.subplots(figsize=(FIG_WIDTH_IN, FIG_HEIGHT_IN))\n",
    "\n",
    "sns.lineplot(\n",
    "    data=salt_marsh_ET_seasonal,\n",
    "    x=\"season\",\n",
    "    y=\"ET\",\n",
    "    hue=\"type\",\n",
    "    ax=ax\n",
    ")\n",
    "\n",
    "ax.set(xlabel=\"Season\", ylabel=\"Seasonal Median Daily Evapotranspiration (mm)\")\n",
    "xticks = sorted(np.unique(salt_marsh_ET_seasonal.season))\n",
    "ax.set_xticks(xticks)\n",
    "seasons = {1: \"Winter\", 4: \"Spring\", 7: \"Summer\", 10: \"Fall\"}\n",
    "ax.set_xticklabels([f\"{seasons[xtick.month]}\\n{xtick.year}\" for xtick in xticks])\n",
    "yticks = np.arange(np.round(np.nanmin(salt_marsh_ET_seasonal.ET), 1), np.round(np.nanmax(salt_marsh_ET_seasonal.ET), 1) + 0.1, 0.1)\n",
    "ax.set_yticks(yticks)\n",
    "yticklabels = [f\"{tick:.1f} mm\" for tick in yticks]\n",
    "ax.set_yticklabels(yticklabels)\n",
    "plt.legend(title=\"Marsh Land Type\")\n",
    "plt.title(\"Carpinteria Salt Marsh Seasonal Median ECOSTRESS Evapotranspiration Timeline by Land Cover\")\n",
    "plt.show()\n",
    "plt.close(fig)"
   ]
  },
  {
   "cell_type": "markdown",
   "metadata": {},
   "source": [
    "## Relationship Between Surface Temperature and Evapotranspiration"
   ]
  },
  {
   "cell_type": "markdown",
   "metadata": {},
   "source": [
    "Now let's compare the seasonal time-series of surface temperature and evapotranspiration. First we're merging the surface temperature and evapotranspiration tables we're produced into a single table using `pandas`."
   ]
  },
  {
   "cell_type": "code",
   "execution_count": null,
   "metadata": {},
   "outputs": [],
   "source": [
    "salt_marsh_seasonal = pd.merge(salt_marsh_ST_seasonal, salt_marsh_ET_seasonal, how=\"inner\").dropna().groupby([\"season\", \"type\"]).median().reset_index()\n",
    "salt_marsh_seasonal"
   ]
  },
  {
   "cell_type": "markdown",
   "metadata": {},
   "source": [
    "Let's compare the seasonal timelines of ECOSTRESS surface temperature and evapotranspiration with one last `seaborn` line-plot. We're plotting these lines together with a shared x axis for the season and separate y axes to compare temperature in Celsius to evapotranspiration in millimeters per day. We see a consistent and complementary seasonal cycle between these two variables, with cool temperatures and high evapotranspiration in the Winter and warm temperatures and low evapotranspiration in the Summer."
   ]
  },
  {
   "cell_type": "code",
   "execution_count": null,
   "metadata": {},
   "outputs": [],
   "source": [
    "fig, ax = plt.subplots(figsize=(FIG_WIDTH_IN, FIG_HEIGHT_IN))\n",
    "ax.set(xlabel=\"Season\", ylabel=\"Seasonal Median Surface Temperature (Celsius)\")\n",
    "ax.grid(True)\n",
    "yticks = np.arange(np.round(np.nanmin(salt_marsh_seasonal.ST)), np.round(np.nanmax(salt_marsh_seasonal.ST)))\n",
    "xticks = sorted(np.unique(salt_marsh_seasonal.season))\n",
    "ax.set_xticks(xticks)\n",
    "seasons = {1: \"Winter\", 4: \"Spring\", 7: \"Summer\", 10: \"Fall\"}\n",
    "ax.set_xticklabels([f\"{seasons[xtick.month]}\\n{xtick.year}\" for xtick in xticks])\n",
    "ax.set_yticks(yticks)\n",
    "ax.set_yticklabels([f\"{int(tick)} °C\" for tick in yticks])\n",
    "\n",
    "sns.lineplot(\n",
    "    data=salt_marsh_seasonal,\n",
    "    x=\"season\",\n",
    "    y=\"ST\",\n",
    "    color=\"red\",\n",
    "    ax=ax,\n",
    "    label=\"Surface Temperature\"\n",
    ")\n",
    "\n",
    "plt.legend(loc=\"upper left\")\n",
    "ax2 = ax.twinx()\n",
    "ax2.set(ylabel=\"Seasonal Median Daily Evapotranspiration (mm)\")\n",
    "ax2.grid(False)\n",
    "yticks = np.arange(np.round(np.nanmin(salt_marsh_seasonal.ET), 1), np.round(np.nanmax(salt_marsh_seasonal.ET), 1), 0.1)\n",
    "ax2.set_yticks(yticks)\n",
    "ax2.set_yticklabels([f\"{tick:0.1f} mm\" for tick in yticks])\n",
    "\n",
    "sns.lineplot(\n",
    "    data=salt_marsh_seasonal,\n",
    "    x=\"season\",\n",
    "    y=\"ET\",\n",
    "    color=\"blue\",\n",
    "    ax=ax2,\n",
    "    label=\"Evapotranspiration\"\n",
    ")\n",
    "\n",
    "plt.legend(loc=\"upper right\")\n",
    "plt.title(\"Carpinteria Salt Marsh Seasonal Median ECOSTRESS Surface Temperature & Evapotranspiration Timeline\")\n",
    "plt.show()\n",
    "plt.close(fig)"
   ]
  },
  {
   "cell_type": "markdown",
   "metadata": {},
   "source": [
    "Finally, let's visualize this inverse relationship between surface temperature and evapotranspiration with a scatter-plot, again using `seaborn`. The surface temperature is the x-axis and the evapotranspiration is the y-axis. In this scatter of points, we see a roughly linear relationship from cool and wet points in the upper left to warm and dry points in the lower right. We're using `regplot` to plot this trend-line."
   ]
  },
  {
   "cell_type": "code",
   "execution_count": null,
   "metadata": {},
   "outputs": [],
   "source": [
    "fig, ax = plt.subplots(figsize=(FIG_WIDTH_IN, FIG_HEIGHT_IN))\n",
    "xticks = np.arange(np.round(np.nanmin(salt_marsh_seasonal.ST)), np.round(np.nanmax(salt_marsh_seasonal.ST)) + 1)\n",
    "ax.set_xticks(xticks)\n",
    "ax.set_xticklabels([f\"{int(tick)} °C\" for tick in xticks])\n",
    "yticks = np.arange(np.round(np.nanmin(salt_marsh_seasonal.ET), 1), np.round(np.nanmax(salt_marsh_seasonal.ET), 1) + 0.1, 0.1)\n",
    "ax.set_yticks(yticks)\n",
    "ax.set_yticklabels([f\"{tick:0.1f} mm\" for tick in yticks])\n",
    "\n",
    "sns.scatterplot(\n",
    "    data=salt_marsh_seasonal,\n",
    "    x=\"ST\",\n",
    "    y=\"ET\",\n",
    "    hue=\"type\",\n",
    "    palette=landcover_colors,\n",
    "    edgecolor=\"black\",\n",
    "    linewidth=1,\n",
    "    ax=ax\n",
    ")\n",
    "\n",
    "sns.regplot(\n",
    "    data=salt_marsh_seasonal,\n",
    "    x=\"ST\",\n",
    "    y=\"ET\",\n",
    "    scatter=False,\n",
    "    color=\"gray\",\n",
    "    ax=ax\n",
    ")\n",
    "\n",
    "ax.set(xlabel=\"Seasonal Median Surface Temperature (Celsius)\", ylabel=\"Seasonal Median Daily Evapotranspiration (mm)\")\n",
    "plt.legend(title=\"Marsh Land Type\")\n",
    "plt.title(\"Carpinteria Salt Marsh Seasonal Surface Temperature and Evapotranspiration Scatterplot\")\n",
    "plt.show()\n",
    "plt.close(fig)"
   ]
  },
  {
   "cell_type": "markdown",
   "metadata": {},
   "source": [
    "To quantify this inverse relationship, first we'll calculate the correlation between these two variables using `numpy`. We see an inverse relationship between seasonally aggregated ECOSTRESS surface temperature and evapotranspiration in the Carpinteria Salt Marsh with a correlation coefficient of **-0.49**."
   ]
  },
  {
   "cell_type": "code",
   "execution_count": null,
   "metadata": {},
   "outputs": [],
   "source": [
    "np.round(np.corrcoef(x=salt_marsh_seasonal.ST, y=salt_marsh_seasonal.ET)[0][1], 2)"
   ]
  },
  {
   "cell_type": "code",
   "execution_count": null,
   "metadata": {},
   "outputs": [],
   "source": []
  }
 ],
 "metadata": {
  "kernelspec": {
   "display_name": "Python 3 (ipykernel)",
   "language": "python",
   "name": "python3"
  },
  "language_info": {
   "codemirror_mode": {
    "name": "ipython",
    "version": 3
   },
   "file_extension": ".py",
   "mimetype": "text/x-python",
   "name": "python",
   "nbconvert_exporter": "python",
   "pygments_lexer": "ipython3",
   "version": "3.9.13"
  },
  "vscode": {
   "interpreter": {
    "hash": "c27c512059a723f785989a0f1908bb8a1574fdd9e53666521fbbc1d601aa9e2a"
   }
  }
 },
 "nbformat": 4,
 "nbformat_minor": 4
}
